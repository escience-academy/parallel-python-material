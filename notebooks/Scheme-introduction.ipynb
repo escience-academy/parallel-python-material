{
 "cells": [
  {
   "cell_type": "markdown",
   "metadata": {},
   "source": [
    "# Crash course in Scheme\n",
    "\n",
    "To follow along, make sure you have Calysto scheme installed\n",
    "\n",
    "```\n",
    "pip install calysto-shceme\n",
    "```\n",
    "\n",
    "Scheme is a dialect of LISP. We're teaching basic Scheme to get acquainted with some basic concepts that become important later on:\n",
    "\n",
    "* The syntax tree is explicit: S-expressions are both data and code.\n",
    "* Everything is an expression, there are *no statements* in Scheme.\n",
    "* Scheme eliminates tail-calls, loops are done through recursion.\n",
    "\n",
    "There are many more interesting parts of Scheme, like first-class continuations and hygienic macros, but these are not important for our discussion on parallel programming in Python.\n",
    "\n",
    "If you are interested though, here are some good references:\n",
    "\n",
    "* [\"Structure and Interpretation of Computer Programs\" by Harold Abelson and Gerald Sussman](https://mitpress.mit.edu/sites/default/files/sicp/index.html), a classic that should be on anyones book shelves.\n",
    "* [\"The Scheme Programming Language\" by R. Kent Dybvig](https://www.scheme.com/tspl4/), a good complete reference.\n",
    "* The Little Schemer, The Seasoned Schemer, The Reasoned Schemer, The Little Typer series \n",
    "* [https://schemers.org/](https://schemers.org/)\n",
    "\n",
    "and implementations (faster and better than Calysto scheme, which is hosted on Python):\n",
    "\n",
    "* [Chez Scheme](https://cisco.github.io/ChezScheme/), also by Kent Dybvig, fastest Scheme compiler out there.\n",
    "* [Racket](https://racket-lang.org/), not just Scheme but an ecosystem of languages with a big community.\n",
    "* [Guile](http://gnu.org/s/guile/), GNU's implementation of Scheme.\n",
    "\n",
    "## Syntax: S-expressions\n",
    "\n",
    "Scheme expressions can be booleans, numbers, strings, symbols and lists."
   ]
  },
  {
   "cell_type": "code",
   "execution_count": 1,
   "metadata": {},
   "outputs": [
    {
     "data": {
      "text/plain": [
       "#t"
      ]
     },
     "execution_count": 1,
     "metadata": {},
     "output_type": "execute_result"
    }
   ],
   "source": [
    "#t  ; true"
   ]
  },
  {
   "cell_type": "code",
   "execution_count": 2,
   "metadata": {},
   "outputs": [
    {
     "data": {
      "text/plain": [
       "42"
      ]
     },
     "execution_count": 2,
     "metadata": {},
     "output_type": "execute_result"
    }
   ],
   "source": [
    "42   ; a number"
   ]
  },
  {
   "cell_type": "code",
   "execution_count": 3,
   "metadata": {},
   "outputs": [
    {
     "data": {
      "text/plain": [
       "\"Hello, World!\""
      ]
     },
     "execution_count": 3,
     "metadata": {},
     "output_type": "execute_result"
    }
   ],
   "source": [
    "\"Hello, World!\"  ; a string"
   ]
  },
  {
   "cell_type": "code",
   "execution_count": 4,
   "metadata": {},
   "outputs": [
    {
     "data": {
      "text/plain": [
       "x"
      ]
     },
     "execution_count": 4,
     "metadata": {},
     "output_type": "execute_result"
    }
   ],
   "source": [
    "'x  ; a symbol"
   ]
  },
  {
   "cell_type": "code",
   "execution_count": 5,
   "metadata": {},
   "outputs": [
    {
     "data": {
      "text/plain": [
       "(a b c)"
      ]
     },
     "execution_count": 5,
     "metadata": {},
     "output_type": "execute_result"
    }
   ],
   "source": [
    "'(a b c)  ; a list of symbols"
   ]
  },
  {
   "cell_type": "code",
   "execution_count": 6,
   "metadata": {},
   "outputs": [
    {
     "data": {
      "text/plain": [
       "(42 is the answer)"
      ]
     },
     "execution_count": 6,
     "metadata": {},
     "output_type": "execute_result"
    }
   ],
   "source": [
    "'(42 is the answer)  ; a list"
   ]
  },
  {
   "cell_type": "markdown",
   "metadata": {},
   "source": [
    "Note that for the symbol and the list, we had to use a single quote mark before the expression. We'll get to quoting in a moment. For now, try these without the quotes and see if you understand what happens.\n",
    "\n",
    "### Function application\n",
    "\n",
    "Let's look at some functions in Scheme. Functions are applied by entering a list where the first element is the function, and the tail of the list gives the arguments."
   ]
  },
  {
   "cell_type": "code",
   "execution_count": 7,
   "metadata": {},
   "outputs": [
    {
     "data": {
      "text/plain": [
       "3"
      ]
     },
     "execution_count": 7,
     "metadata": {},
     "output_type": "execute_result"
    }
   ],
   "source": [
    "(+ 1 2)"
   ]
  },
  {
   "cell_type": "code",
   "execution_count": 8,
   "metadata": {},
   "outputs": [
    {
     "data": {
      "text/plain": [
       "13"
      ]
     },
     "execution_count": 8,
     "metadata": {},
     "output_type": "execute_result"
    }
   ],
   "source": [
    "(string-length \"Hello, World!\")"
   ]
  },
  {
   "cell_type": "code",
   "execution_count": 9,
   "metadata": {},
   "outputs": [
    {
     "data": {
      "text/plain": [
       "\"Hello\""
      ]
     },
     "execution_count": 9,
     "metadata": {},
     "output_type": "execute_result"
    }
   ],
   "source": [
    "(substring \"Hello, World!\" 0 5)"
   ]
  },
  {
   "cell_type": "markdown",
   "metadata": {},
   "source": [
    "### Quoting\n",
    "\n",
    "Since a list or a symbol is normally interpreted, we need a way to denote a list that is just data:"
   ]
  },
  {
   "cell_type": "code",
   "execution_count": 10,
   "metadata": {},
   "outputs": [
    {
     "data": {
      "text/plain": [
       "(1 2 3)"
      ]
     },
     "execution_count": 10,
     "metadata": {},
     "output_type": "execute_result"
    }
   ],
   "source": [
    "(list 1 2 3)"
   ]
  },
  {
   "cell_type": "code",
   "execution_count": 11,
   "metadata": {},
   "outputs": [
    {
     "data": {
      "text/plain": [
       "(1 2 3)"
      ]
     },
     "execution_count": 11,
     "metadata": {},
     "output_type": "execute_result"
    }
   ],
   "source": [
    "(quote (1 2 3))"
   ]
  },
  {
   "cell_type": "code",
   "execution_count": 12,
   "metadata": {},
   "outputs": [
    {
     "data": {
      "text/plain": [
       "(1 2 3)"
      ]
     },
     "execution_count": 12,
     "metadata": {},
     "output_type": "execute_result"
    }
   ],
   "source": [
    "'(1 2 3)"
   ]
  },
  {
   "cell_type": "markdown",
   "metadata": {},
   "source": [
    "or a symbol that is just a symbol"
   ]
  },
  {
   "cell_type": "code",
   "execution_count": 13,
   "metadata": {},
   "outputs": [
    {
     "data": {
      "text/plain": [
       "symbol"
      ]
     },
     "execution_count": 13,
     "metadata": {},
     "output_type": "execute_result"
    }
   ],
   "source": [
    "(quote symbol)"
   ]
  },
  {
   "cell_type": "code",
   "execution_count": 14,
   "metadata": {},
   "outputs": [
    {
     "data": {
      "text/plain": [
       "symbol"
      ]
     },
     "execution_count": 14,
     "metadata": {},
     "output_type": "execute_result"
    }
   ],
   "source": [
    "'symbol"
   ]
  },
  {
   "cell_type": "markdown",
   "metadata": {},
   "source": [
    "### Functions\n",
    "\n",
    "Functions are constructed using the `lambda` keyword"
   ]
  },
  {
   "cell_type": "code",
   "execution_count": 15,
   "metadata": {},
   "outputs": [
    {
     "data": {
      "text/plain": [
       "50"
      ]
     },
     "execution_count": 15,
     "metadata": {},
     "output_type": "execute_result"
    }
   ],
   "source": [
    "((lambda (x) (* x 5)) 10)"
   ]
  },
  {
   "cell_type": "code",
   "execution_count": 16,
   "metadata": {},
   "outputs": [
    {
     "data": {
      "text/plain": [
       "\"Hello, Felipe!\""
      ]
     },
     "execution_count": 16,
     "metadata": {},
     "output_type": "execute_result"
    }
   ],
   "source": [
    "((lambda (name) (string-append \"Hello, \" name \"!\")) \"Felipe\")"
   ]
  },
  {
   "cell_type": "markdown",
   "metadata": {},
   "source": [
    "Functions are not much use if we can't give them a name.\n",
    "\n",
    "### `let` bindings"
   ]
  },
  {
   "cell_type": "code",
   "execution_count": 17,
   "metadata": {},
   "outputs": [
    {
     "name": "stdout",
     "output_type": "stream",
     "text": [
      "Hello, Alice!\n",
      "Hello, Bob!\n"
     ]
    },
    {
     "data": {
      "text/plain": [
       "123"
      ]
     },
     "execution_count": 17,
     "metadata": {},
     "output_type": "execute_result"
    }
   ],
   "source": [
    "(let ((alice \"Alice\")\n",
    "      (bob   \"Bob\")\n",
    "      (greet (lambda (name)\n",
    "               (display (string-append \"Hello, \" name \"!\"))\n",
    "               (newline)\n",
    "               123)))\n",
    "  (greet alice)\n",
    "  (greet bob))"
   ]
  },
  {
   "cell_type": "markdown",
   "metadata": {},
   "source": [
    "> Exercise: `let` is actually a macro that expands to an expression involving a `lambda`, can you think what this would look like? How would you write `(let ((a 2) (b 3)) (+ a b))` in a lambda expression preserving the `(+ a b)` body?\n",
    "\n",
    "> Answer: `(let ((a 2) (b 3)) (+ a b))` expands to `((lambda (a b) (+ a b)) 2 3)`.\n",
    "\n",
    "### `define`"
   ]
  },
  {
   "cell_type": "code",
   "execution_count": 57,
   "metadata": {},
   "outputs": [
    {
     "name": "stdout",
     "output_type": "stream",
     "text": [
      "64\n",
      "25\n"
     ]
    }
   ],
   "source": [
    "(define five 5)\n",
    "\n",
    "(define square (lambda (x) (* x x)))\n",
    "\n",
    "(display (square 8)) (newline)\n",
    "(display (square x)) (newline)"
   ]
  },
  {
   "cell_type": "markdown",
   "metadata": {},
   "source": [
    "For defining functions there is special syntax.\n",
    "\n",
    "```scheme\n",
    "(define (square x) (* x x))\n",
    "```\n",
    "\n",
    "is identical to\n",
    "\n",
    "```scheme\n",
    "(define square (lambda (x) (* x x)))\n",
    "```"
   ]
  },
  {
   "cell_type": "code",
   "execution_count": 58,
   "metadata": {},
   "outputs": [],
   "source": [
    "(define (greet name)\n",
    "  (display (string-append \"Hello, \" name \"!\\n\")))"
   ]
  },
  {
   "cell_type": "code",
   "execution_count": 59,
   "metadata": {},
   "outputs": [
    {
     "name": "stdout",
     "output_type": "stream",
     "text": [
      "Hello, uncle!\n"
     ]
    }
   ],
   "source": [
    "(greet \"uncle\")"
   ]
  },
  {
   "cell_type": "markdown",
   "metadata": {},
   "source": [
    "### `if` expressions"
   ]
  },
  {
   "cell_type": "code",
   "execution_count": 20,
   "metadata": {},
   "outputs": [
    {
     "data": {
      "text/plain": [
       "2"
      ]
     },
     "execution_count": 20,
     "metadata": {},
     "output_type": "execute_result"
    }
   ],
   "source": [
    "(if #f\n",
    "    1\n",
    "    2)"
   ]
  },
  {
   "cell_type": "markdown",
   "metadata": {},
   "source": [
    "## Recursion\n",
    "\n",
    "We have not seen any looping constructs yet! That's because Scheme does not have loops. To illustrate things, we define a new number system."
   ]
  },
  {
   "cell_type": "code",
   "execution_count": 45,
   "metadata": {},
   "outputs": [],
   "source": [
    "(define zilch \"\")\n",
    "\n",
    "(define unit \"I\")\n",
    "\n",
    "(define (inc a)\n",
    "  (string-append a unit))\n",
    "\n",
    "(define (dec a)\n",
    "  (substring a 1))\n",
    "\n",
    "(define (zilch? a) (string=? a zilch))"
   ]
  },
  {
   "cell_type": "markdown",
   "metadata": {},
   "source": [
    "Using this number system, let's define addition."
   ]
  },
  {
   "cell_type": "code",
   "execution_count": 46,
   "metadata": {},
   "outputs": [],
   "source": [
    "(define (add a b)\n",
    "  (if (zilch? a)\n",
    "      b\n",
    "      (add (dec a) (inc b))))"
   ]
  },
  {
   "cell_type": "code",
   "execution_count": 47,
   "metadata": {},
   "outputs": [
    {
     "data": {
      "text/plain": [
       "\"IIIII\""
      ]
     },
     "execution_count": 47,
     "metadata": {},
     "output_type": "execute_result"
    }
   ],
   "source": [
    "(add \"III\" \"II\")"
   ]
  },
  {
   "cell_type": "markdown",
   "metadata": {},
   "source": [
    "Can you define multiplication? (hint: first define the `unit?` function)"
   ]
  },
  {
   "cell_type": "code",
   "execution_count": 48,
   "metadata": {},
   "outputs": [],
   "source": [
    "(define (unit? a) (string=? a unit))\n",
    "\n",
    "(define (mul a b)\n",
    "  (if (unit? a)\n",
    "      b\n",
    "      (add (mul (dec a) b) b)))"
   ]
  },
  {
   "cell_type": "code",
   "execution_count": 49,
   "metadata": {},
   "outputs": [
    {
     "data": {
      "text/plain": [
       "\"IIIIIIIIIIIIIII\""
      ]
     },
     "execution_count": 49,
     "metadata": {},
     "output_type": "execute_result"
    }
   ],
   "source": [
    "(mul \"III\" \"IIIII\")"
   ]
  },
  {
   "cell_type": "markdown",
   "metadata": {},
   "source": [
    "There is a difference in which the `add` and `mul` functions recurse. In the case of `add`, the recursive call happens in the *tail*. Suppose you have to derive by hand how `(add \"III\" \"II\")` works by substituting a function call for the value it returns:\n",
    "\n",
    "* `(add \"III\" \"II\")`\n",
    "* `(if (zilch? \"III\") \"II\" (add (dec \"III\") (inc \"II\")))`\n",
    "* `(add (dec \"III\") (inc \"II\"))`\n",
    "* `(add \"II\" \"III\")`\n",
    "* ... skip to tail ...\n",
    "* `(add \"I\" \"IIII\")`\n",
    "* ... skip to tail ...\n",
    "* `(add \"\" \"IIIII\")`\n",
    "* ... skip to tail ...\n",
    "* `\"IIIII\"`\n",
    "\n",
    "Every recursion, the original call is being *replaced* by a new call. Now we do the same for `(mul \"III\" \"IIIII\")`.\n",
    "\n",
    "* `(mul \"III\" \"IIIII\")`\n",
    "* `(add (mul \"II\" \"IIIII\") \"IIIII\")`\n",
    "* `(add (add (mul \"I\" \"IIIII\") \"IIIII\") \"IIIII\")`\n",
    "* `(add (add \"IIIII\" \"IIIII\") \"IIIII\")`\n",
    "* `(add \"IIIIIIIIII\" \"IIIII\")`\n",
    "* `\"IIIIIIIIIIIIIII\"`\n",
    "\n",
    "The `mul` function is not *tail-recursive*. "
   ]
  },
  {
   "cell_type": "code",
   "execution_count": 50,
   "metadata": {},
   "outputs": [],
   "source": [
    "(define (madd a b c)\n",
    "  (if (zilch? a)\n",
    "      c\n",
    "      (madd (dec a) b (add b c))))\n",
    "\n",
    "(define (mul a b) (madd a b zilch))"
   ]
  },
  {
   "cell_type": "markdown",
   "metadata": {},
   "source": [
    "Tracing the `(mul \"III\" \"IIIII\")` call now results in\n",
    "\n",
    "* `(mul \"III\" \"IIIII\")`\n",
    "* `(madd \"III\" \"IIIII\" \"\")`\n",
    "* `(madd \"II\" \"IIIII\" \"IIIII\")`\n",
    "* `(madd \"I\" \"IIIII\" \"IIIIIIIIII\")`\n",
    "* `(madd \"\" \"IIIII\" \"IIIIIIIIIIIIIII\")`\n",
    "* `\"IIIIIIIIIIIIIII\"`"
   ]
  },
  {
   "cell_type": "markdown",
   "metadata": {},
   "source": [
    "> Exercise: write a tail-recursive function that computes the factorial (of a normal number).\n",
    "\n",
    "> Hints: there is a `zero?` function that checks if a number equals 0."
   ]
  },
  {
   "cell_type": "markdown",
   "metadata": {},
   "source": [
    "# Eval\n",
    "\n",
    "Scheme is a **homoiconic** language. This means that code looks like data and code can be trivially stored as such. We can quote a piece of code, pass it around, or modify it for later evaluation."
   ]
  },
  {
   "cell_type": "code",
   "execution_count": 71,
   "metadata": {},
   "outputs": [
    {
     "name": "stdout",
     "output_type": "stream",
     "text": [
      "(+ 6 7)\n",
      " => 13\n",
      "(* 6 7)\n",
      " => 42\n"
     ]
    }
   ],
   "source": [
    "(let* ((expr1 '(+ 6 7))\n",
    "       (expr2 (cons '* (cdr expr1))))\n",
    "  (display expr1) (newline)\n",
    "  (display \" => \") (display (eval expr1)) (newline)\n",
    "  (display expr2) (newline)\n",
    "  (display \" => \") (display (eval expr2)) (newline))"
   ]
  }
 ],
 "metadata": {
  "kernelspec": {
   "display_name": "Calysto Scheme 3",
   "language": "scheme",
   "name": "calysto_scheme"
  },
  "language_info": {
   "codemirror_mode": {
    "name": "scheme"
   },
   "mimetype": "text/x-scheme",
   "name": "scheme",
   "pygments_lexer": "scheme"
  }
 },
 "nbformat": 4,
 "nbformat_minor": 4
}
