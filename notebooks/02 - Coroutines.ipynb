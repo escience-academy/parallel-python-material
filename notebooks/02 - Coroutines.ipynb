{
 "cells": [
  {
   "cell_type": "markdown",
   "metadata": {},
   "source": [
    "## Iterators and Generators\n",
    "\n",
    "Python iterators are objects with the `__next__` and `__iter__` methods defined. Other objects in the iterator eco-system are:\n",
    "\n",
    "- `next(iterator[, default])` Retrieve the next item from the iterator by calling its `__next__()` method. If `default` is given, it is returned if the iterator is exhausted, otherwise `StopIteration` is raised.\n",
    "\n",
    "-  `iter(object[, sentinel])` Return an iterator object. The first argument is interpreted very differently depending on the presence of the second argument. Without a second argument, object must be a collection object which supports the iteration protocol (the `__iter__()` method), or it must support the sequence protocol (the `__getitem__()` method with integer arguments starting at `0`). If it does not support either of those protocols, `TypeError` is raised. If the second argument, sentinel, is given, then object must be a callable object. The iterator created in this case will call object with no arguments for each call to its `__next__()` method; if the value returned is equal to sentinel, `StopIteration` will be raised, otherwise the value will be returned.\n",
    "\n",
    "- `StopIteration` Raised by built-in function `next()` and an iterator’s `__next__()` method to signal that there are no further items produced by the iterator. If a generator code directly or indirectly raises `StopIteration`, it is converted into a `RuntimeError` (retaining the `StopIteration` as the new exception’s cause)."
   ]
  },
  {
   "cell_type": "code",
   "execution_count": 1,
   "metadata": {},
   "outputs": [],
   "source": [
    "class Integers:\n",
    "    \"\"\"All positive integers.\"\"\"\n",
    "    def __iter__(self):\n",
    "        self.x = 0\n",
    "        return self\n",
    "        \n",
    "    def __next__(self):\n",
    "        self.x += 1\n",
    "        return self.x"
   ]
  },
  {
   "cell_type": "code",
   "execution_count": 2,
   "metadata": {},
   "outputs": [
    {
     "name": "stdout",
     "output_type": "stream",
     "text": [
      "1 2 3 4 5 "
     ]
    }
   ],
   "source": [
    "from itertools import islice\n",
    "\n",
    "for i in islice(Integers(), 5):\n",
    "    print(i, end=' ')"
   ]
  },
  {
   "cell_type": "markdown",
   "metadata": {},
   "source": [
    "### Exercise: even integers\n",
    "\n",
    "> <div class=\"alert alert-block alert-info\">\n",
    "> Write an iterator iterating all even positive integers.\n",
    "> </div>"
   ]
  },
  {
   "cell_type": "markdown",
   "metadata": {},
   "source": [
    "## Generators"
   ]
  },
  {
   "cell_type": "code",
   "execution_count": 3,
   "metadata": {},
   "outputs": [],
   "source": [
    "def integers():\n",
    "    x = 1\n",
    "    while True:\n",
    "        yield x\n",
    "        x += 1"
   ]
  },
  {
   "cell_type": "code",
   "execution_count": 4,
   "metadata": {},
   "outputs": [
    {
     "data": {
      "text/plain": [
       "[1, 2, 3, 4, 5, 6, 7, 8, 9, 10, 11, 12, 13, 14, 15, 16, 17, 18, 19, 20]"
      ]
     },
     "execution_count": 4,
     "metadata": {},
     "output_type": "execute_result"
    }
   ],
   "source": [
    "list(islice(integers(), 20))"
   ]
  },
  {
   "cell_type": "markdown",
   "metadata": {},
   "source": [
    "A *generator* is like a function that remembers where it was, the last time it generated a value."
   ]
  },
  {
   "cell_type": "code",
   "execution_count": 5,
   "metadata": {},
   "outputs": [],
   "source": [
    "def is_prime(x):\n",
    "    return x >= 2 and all(x % i != 0 for i in range(2, x//2 + 1))"
   ]
  },
  {
   "cell_type": "markdown",
   "metadata": {},
   "source": [
    "> <div class=\"alert alert-info\">\n",
    ">    Do you understand how the <tt>is_prime</tt> function works?\n",
    ">    <tt>range</tt> Gives an iterator, do you see another iterator being used in the above definition?\n",
    "> </div>"
   ]
  },
  {
   "cell_type": "code",
   "execution_count": 6,
   "metadata": {},
   "outputs": [
    {
     "data": {
      "text/plain": [
       "[2, 3, 5, 7, 11, 13, 17, 19, 23, 29, 31, 37, 41, 43, 47]"
      ]
     },
     "execution_count": 6,
     "metadata": {},
     "output_type": "execute_result"
    }
   ],
   "source": [
    "[i for i in range(50) if is_prime(i)]"
   ]
  },
  {
   "cell_type": "markdown",
   "metadata": {},
   "source": [
    "The above list-comprehension performs a filtration. Another way to write this:"
   ]
  },
  {
   "cell_type": "code",
   "execution_count": 7,
   "metadata": {},
   "outputs": [
    {
     "data": {
      "text/plain": [
       "[2, 3, 5, 7, 11, 13, 17, 19, 23, 29, 31, 37, 41, 43, 47]"
      ]
     },
     "execution_count": 7,
     "metadata": {},
     "output_type": "execute_result"
    }
   ],
   "source": [
    "list(filter(is_prime, range(50)))"
   ]
  },
  {
   "cell_type": "markdown",
   "metadata": {},
   "source": [
    "### Exercise: cumsum\n",
    "\n",
    "> <div class=\"alert alert-block alert-info\">\n",
    ">     Write an iterator that generates the cumulative sum of the primes.\n",
    "> </div>"
   ]
  },
  {
   "cell_type": "code",
   "execution_count": 8,
   "metadata": {},
   "outputs": [],
   "source": [
    "def cumsum(lst):\n",
    "    total = 0\n",
    "    for x in lst:\n",
    "        total += x\n",
    "        yield total\n",
    "    return"
   ]
  },
  {
   "cell_type": "code",
   "execution_count": 9,
   "metadata": {},
   "outputs": [],
   "source": [
    "from itertools import count\n",
    "\n",
    "primes = filter(is_prime, count(1))\n",
    "prime_sum = cumsum(primes)"
   ]
  },
  {
   "cell_type": "code",
   "execution_count": 10,
   "metadata": {},
   "outputs": [
    {
     "data": {
      "text/plain": [
       "[2, 5, 10, 17, 28, 41, 58, 77, 100, 129]"
      ]
     },
     "execution_count": 10,
     "metadata": {},
     "output_type": "execute_result"
    }
   ],
   "source": [
    "list(islice(prime_sum, 10))  # run this several times"
   ]
  },
  {
   "cell_type": "code",
   "execution_count": 11,
   "metadata": {},
   "outputs": [],
   "source": [
    "# fix:\n",
    "def prime_sum():\n",
    "    primes = filter(is_prime, count(1))\n",
    "    return cumsum(primes)"
   ]
  },
  {
   "cell_type": "code",
   "execution_count": 12,
   "metadata": {},
   "outputs": [
    {
     "data": {
      "text/plain": [
       "[2, 5, 10, 17, 28, 41, 58, 77, 100, 129]"
      ]
     },
     "execution_count": 12,
     "metadata": {},
     "output_type": "execute_result"
    }
   ],
   "source": [
    "list(islice(prime_sum(), 10))  # run this several times"
   ]
  },
  {
   "cell_type": "markdown",
   "metadata": {},
   "source": [
    "### Exercise: intersperse\n",
    "\n",
    "> <div class=\"alert alert-info\">\n",
    "> Write a generator that intersperses two sequences:\n",
    ">\n",
    ">     >>> intersperse([1, 2, 3], [\"one\", \"two\", \"three\"])\n",
    ">     [1, \"one\", 2, \"two\", 3, \"three\"]\n",
    "> </div>"
   ]
  },
  {
   "cell_type": "code",
   "execution_count": 13,
   "metadata": {},
   "outputs": [],
   "source": [
    "def intersperse(a, b):\n",
    "    a = iter(a)\n",
    "    b = iter(b)\n",
    "    try:\n",
    "        while True:\n",
    "            yield next(a)\n",
    "            yield next(b)\n",
    "    except StopIteration:\n",
    "        return"
   ]
  },
  {
   "cell_type": "code",
   "execution_count": 14,
   "metadata": {},
   "outputs": [
    {
     "data": {
      "text/plain": [
       "[1, 'one', 2, 'two', 3, 'three']"
      ]
     },
     "execution_count": 14,
     "metadata": {},
     "output_type": "execute_result"
    }
   ],
   "source": [
    "list(intersperse([1, 2, 3], [\"one\", \"two\", \"three\"]))"
   ]
  },
  {
   "cell_type": "code",
   "execution_count": 15,
   "metadata": {},
   "outputs": [
    {
     "data": {
      "text/plain": [
       "[1, 'one', 2, 'two', 3, 'three', 4]"
      ]
     },
     "execution_count": 15,
     "metadata": {},
     "output_type": "execute_result"
    }
   ],
   "source": [
    "list(intersperse(count(1), [\"one\", \"two\", \"three\"]))"
   ]
  },
  {
   "cell_type": "markdown",
   "metadata": {},
   "source": [
    "### Context manager\n",
    "\n",
    "You may use a generator to create a context manager."
   ]
  },
  {
   "cell_type": "markdown",
   "metadata": {},
   "source": [
    "# Co-routines\n",
    "\n",
    "The generator pattern plays with the stack based model of function evaluation. When Python evaluates an expression like\n",
    "\n",
    "```py\n",
    "(1 + 2) * (3 + 4)\n",
    "```\n",
    "\n",
    "what happens internally is:\n",
    "\n",
    "> create a stack frame:\n",
    ">\n",
    "> > compute 1 + 2\n",
    "> >\n",
    "> > return 3\n",
    ">\n",
    "> save 3\n",
    ">\n",
    "> create a stack frame:\n",
    ">\n",
    "> > compute 3 + 4\n",
    "> >\n",
    "> > return 7\n",
    ">\n",
    "> save 7\n",
    ">\n",
    "> compute 3 * 7\n",
    "> \n",
    "> return 21\n",
    "\n",
    "A stack-frame is usually associated with a localized environment with its own space of variables. After the computation has finished, the stack-frame (and its associated environment) is garbage collocted.\n",
    "\n",
    "In the case of a co-routine the environment is saved and can be reused later in the computation. The co-routine can be seen as a little independent thread of computation (microthread, greenlet, torque, stackless, twisted, etc.). In low level Python this is just a slight change from calling an ordinary function. This is why generators can be relatively efficient.\n",
    "\n",
    "Currently our understanding of co-routines allows for one-way extraction of values in the generator style. Python also allows us to put values into a co-routine."
   ]
  },
  {
   "cell_type": "code",
   "execution_count": 51,
   "metadata": {},
   "outputs": [],
   "source": [
    "def printer():\n",
    "    line = 0\n",
    "    while True:\n",
    "        x = yield\n",
    "        print(\"{:04X}:\".format(line), x)\n",
    "        line += 1"
   ]
  },
  {
   "cell_type": "code",
   "execution_count": 52,
   "metadata": {},
   "outputs": [],
   "source": [
    "p = printer()\n",
    "next(p)"
   ]
  },
  {
   "cell_type": "code",
   "execution_count": 54,
   "metadata": {},
   "outputs": [
    {
     "name": "stdout",
     "output_type": "stream",
     "text": [
      "0010: 0\n",
      "0011: 1\n",
      "0012: 2\n",
      "0013: 3\n",
      "0014: 4\n",
      "0015: 5\n",
      "0016: 6\n",
      "0017: 7\n",
      "0018: 8\n",
      "0019: 9\n",
      "001A: 10\n",
      "001B: 11\n",
      "001C: 12\n",
      "001D: 13\n",
      "001E: 14\n",
      "001F: 15\n"
     ]
    }
   ],
   "source": [
    "for x in range(16):\n",
    "    p.send(x)"
   ]
  },
  {
   "cell_type": "markdown",
   "metadata": {},
   "source": [
    "## AsyncIO\n",
    "\n",
    "This way of defining co-routines is now depricated in favour of `async`/`await`."
   ]
  },
  {
   "cell_type": "code",
   "execution_count": null,
   "metadata": {},
   "outputs": [],
   "source": [
    "async def printer():\n",
    "    line = 0\n",
    "    while True:\n",
    "        x = await"
   ]
  }
 ],
 "metadata": {
  "kernelspec": {
   "display_name": "Python 3",
   "language": "python",
   "name": "python3"
  },
  "language_info": {
   "codemirror_mode": {
    "name": "ipython",
    "version": 3
   },
   "file_extension": ".py",
   "mimetype": "text/x-python",
   "name": "python",
   "nbconvert_exporter": "python",
   "pygments_lexer": "ipython3",
   "version": "3.7.4"
  }
 },
 "nbformat": 4,
 "nbformat_minor": 4
}
